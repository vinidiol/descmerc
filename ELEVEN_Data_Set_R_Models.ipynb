{
  "nbformat": 4,
  "nbformat_minor": 0,
  "metadata": {
    "colab": {
      "name": "ELEVEN_Data-Set_R_Models.ipynb",
      "provenance": [],
      "collapsed_sections": [],
      "authorship_tag": "ABX9TyPiVFlo7rdnzuQEBuzCqVUC",
      "include_colab_link": true
    },
    "kernelspec": {
      "name": "ir",
      "display_name": "R"
    },
    "language_info": {
      "name": "R"
    }
  },
  "cells": [
    {
      "cell_type": "markdown",
      "metadata": {
        "id": "view-in-github",
        "colab_type": "text"
      },
      "source": [
        "<a href=\"https://colab.research.google.com/github/vinidiol/descmerc/blob/main/ELEVEN_Data_Set_R_Models.ipynb\" target=\"_parent\"><img src=\"https://colab.research.google.com/assets/colab-badge.svg\" alt=\"Open In Colab\"/></a>"
      ]
    },
    {
      "cell_type": "markdown",
      "source": [
        "# ELEVEN - ELEctronic inVoicEs in the portuguese laNguage\n",
        "\n",
        "## Preparation of the environment (installation of Java and H2O)"
      ],
      "metadata": {
        "id": "4taMzHFM_a6D"
      }
    },
    {
      "cell_type": "markdown",
      "source": [
        "1. Set seed for reproducible results"
      ],
      "metadata": {
        "id": "M7t0EC4a_iet"
      }
    },
    {
      "cell_type": "code",
      "execution_count": 1,
      "metadata": {
        "id": "xjkJm53i-ff8"
      },
      "outputs": [],
      "source": [
        "set.seed(100)"
      ]
    },
    {
      "cell_type": "markdown",
      "source": [
        "2. Packages"
      ],
      "metadata": {
        "id": "spDav9bP_8CO"
      }
    },
    {
      "cell_type": "code",
      "source": [
        "# Text mining: Corpus and Document Term Matrix\n",
        "require(devtools)\n",
        "install_version(\"tm\", version = \"0.7-1\", repos = \"http://cran.us.r-project.org\") \n",
        "#install.packages(\"tmap\")\n",
        "library(tm)\n",
        "#library(tmap)\n",
        "# Stemming words\n",
        "install.packages(\"SnowballC\")\n",
        "library(SnowballC) \n",
        "# Pacote H2O\n",
        "install.packages(\"h2o\")\n",
        "library(h2o)  "
      ],
      "metadata": {
        "id": "W13e2yuk_-cS",
        "colab": {
          "base_uri": "https://localhost:8080/"
        },
        "outputId": "b3792d29-7ac9-4923-fed2-3daf595c5d3b"
      },
      "execution_count": 2,
      "outputs": [
        {
          "output_type": "stream",
          "name": "stderr",
          "text": [
            "Loading required package: devtools\n",
            "\n",
            "Loading required package: usethis\n",
            "\n",
            "Downloading package from url: http://cran.us.r-project.org/src/contrib/Archive/tm/tm_0.7-1.tar.gz\n",
            "\n"
          ]
        },
        {
          "output_type": "stream",
          "name": "stdout",
          "text": [
            "Rcpp (NA -> 1.0.8.3 ) [CRAN]\n",
            "BH   (NA -> 1.78.0-0) [CRAN]\n",
            "slam (NA -> 0.1-50  ) [CRAN]\n",
            "NLP  (NA -> 0.2-1   ) [CRAN]\n"
          ]
        },
        {
          "output_type": "stream",
          "name": "stderr",
          "text": [
            "Installing 4 packages: Rcpp, BH, slam, NLP\n",
            "\n",
            "Installing packages into ‘/usr/local/lib/R/site-library’\n",
            "(as ‘lib’ is unspecified)\n",
            "\n",
            "Installing package into ‘/usr/local/lib/R/site-library’\n",
            "(as ‘lib’ is unspecified)\n",
            "\n",
            "Loading required package: NLP\n",
            "\n",
            "Installing package into ‘/usr/local/lib/R/site-library’\n",
            "(as ‘lib’ is unspecified)\n",
            "\n",
            "Installing package into ‘/usr/local/lib/R/site-library’\n",
            "(as ‘lib’ is unspecified)\n",
            "\n",
            "also installing the dependencies ‘bitops’, ‘RCurl’\n",
            "\n",
            "\n",
            "\n",
            "----------------------------------------------------------------------\n",
            "\n",
            "Your next step is to start H2O:\n",
            "    > h2o.init()\n",
            "\n",
            "For H2O package documentation, ask for help:\n",
            "    > ??h2o\n",
            "\n",
            "After starting H2O, you can use the Web UI at http://localhost:54321\n",
            "For more information visit https://docs.h2o.ai\n",
            "\n",
            "----------------------------------------------------------------------\n",
            "\n",
            "\n",
            "\n",
            "Attaching package: ‘h2o’\n",
            "\n",
            "\n",
            "The following objects are masked from ‘package:stats’:\n",
            "\n",
            "    cor, sd, var\n",
            "\n",
            "\n",
            "The following objects are masked from ‘package:base’:\n",
            "\n",
            "    &&, %*%, %in%, ||, apply, as.factor, as.numeric, colnames,\n",
            "    colnames<-, ifelse, is.character, is.factor, is.numeric, log,\n",
            "    log10, log1p, log2, round, signif, trunc\n",
            "\n",
            "\n"
          ]
        }
      ]
    },
    {
      "cell_type": "markdown",
      "source": [
        "3. Initialize H2O"
      ],
      "metadata": {
        "id": "gcg8FG0uAC-O"
      }
    },
    {
      "cell_type": "code",
      "source": [
        "h2o.init()"
      ],
      "metadata": {
        "colab": {
          "base_uri": "https://localhost:8080/"
        },
        "id": "_7aOfu4GFysq",
        "outputId": "e0c5be07-14b6-4b53-fa42-baf739f0f822"
      },
      "execution_count": 3,
      "outputs": [
        {
          "output_type": "stream",
          "name": "stdout",
          "text": [
            "\n",
            "H2O is not running yet, starting it now...\n",
            "\n",
            "Note:  In case of errors look at the following log files:\n",
            "    /tmp/Rtmp1dTEN0/file3a3cd7a022/h2o_UnknownUser_started_from_r.out\n",
            "    /tmp/Rtmp1dTEN0/file3a502ac85d/h2o_UnknownUser_started_from_r.err\n",
            "\n",
            "\n",
            "Starting H2O JVM and connecting: .... Connection successful!\n",
            "\n",
            "R is connected to the H2O cluster: \n",
            "    H2O cluster uptime:         3 seconds 330 milliseconds \n",
            "    H2O cluster timezone:       Etc/UTC \n",
            "    H2O data parsing timezone:  UTC \n",
            "    H2O cluster version:        3.36.0.4 \n",
            "    H2O cluster version age:    1 month and 14 days  \n",
            "    H2O cluster name:           H2O_started_from_R_root_gwk712 \n",
            "    H2O cluster total nodes:    1 \n",
            "    H2O cluster total memory:   3.17 GB \n",
            "    H2O cluster total cores:    2 \n",
            "    H2O cluster allowed cores:  2 \n",
            "    H2O cluster healthy:        TRUE \n",
            "    H2O Connection ip:          localhost \n",
            "    H2O Connection port:        54321 \n",
            "    H2O Connection proxy:       NA \n",
            "    H2O Internal Security:      FALSE \n",
            "    R Version:                  R version 4.2.0 (2022-04-22) \n",
            "\n"
          ]
        }
      ]
    },
    {
      "cell_type": "markdown",
      "source": [
        "## Acquire and prepare Data-Set"
      ],
      "metadata": {
        "id": "N0hSkoH5V0sD"
      }
    },
    {
      "cell_type": "markdown",
      "source": [
        "4. Read csv file with two columns:: Text e Category"
      ],
      "metadata": {
        "id": "fbF6FJpTF1Kl"
      }
    },
    {
      "cell_type": "code",
      "source": [
        "df <- read.delim(\"https://raw.githubusercontent.com/vinidiol/descmerc/main/AmostraDescMerc.csv\"\n",
        "#, encoding=\"UTF-8\"\n",
        ")\n",
        "head(df)"
      ],
      "metadata": {
        "id": "LqePYzTAAJSN",
        "colab": {
          "base_uri": "https://localhost:8080/",
          "height": 286
        },
        "outputId": "e970eced-6f01-4ec1-c9a0-543f8b5d0c0c"
      },
      "execution_count": 4,
      "outputs": [
        {
          "output_type": "display_data",
          "data": {
            "text/html": [
              "<table class=\"dataframe\">\n",
              "<caption>A data.frame: 6 × 2</caption>\n",
              "<thead>\n",
              "\t<tr><th></th><th scope=col>Text</th><th scope=col>Category</th></tr>\n",
              "\t<tr><th></th><th scope=col>&lt;chr&gt;</th><th scope=col>&lt;chr&gt;</th></tr>\n",
              "</thead>\n",
              "<tbody>\n",
              "\t<tr><th scope=row>1</th><td>- REEF.: (140330) - SPRAY CAPILAR 270ML - TIGI CATWALK SESSION SERIES SALT SPRAY - PROT.DO.M.S</td><td>cosmeticos</td></tr>\n",
              "\t<tr><th scope=row>2</th><td>BOZZANO ESPUMA BARBA CERRADA 6X190G                                                           </td><td>cosmeticos</td></tr>\n",
              "\t<tr><th scope=row>3</th><td>NINA ELIXIR BC100 GENERIC GWP 2012                                                            </td><td>cosmeticos</td></tr>\n",
              "\t<tr><th scope=row>4</th><td>CHA DE CAMOMILA 12X10X1,0 G                                                                   </td><td>cosmeticos</td></tr>\n",
              "\t<tr><th scope=row>5</th><td>EDP SILVER RAIN VAPO 50 ML                                                                    </td><td>cosmeticos</td></tr>\n",
              "\t<tr><th scope=row>6</th><td>MINOTAURE M75                                                                                 </td><td>cosmeticos</td></tr>\n",
              "</tbody>\n",
              "</table>\n"
            ],
            "text/markdown": "\nA data.frame: 6 × 2\n\n| <!--/--> | Text &lt;chr&gt; | Category &lt;chr&gt; |\n|---|---|---|\n| 1 | - REEF.: (140330) - SPRAY CAPILAR 270ML - TIGI CATWALK SESSION SERIES SALT SPRAY - PROT.DO.M.S | cosmeticos |\n| 2 | BOZZANO ESPUMA BARBA CERRADA 6X190G                                                            | cosmeticos |\n| 3 | NINA ELIXIR BC100 GENERIC GWP 2012                                                             | cosmeticos |\n| 4 | CHA DE CAMOMILA 12X10X1,0 G                                                                    | cosmeticos |\n| 5 | EDP SILVER RAIN VAPO 50 ML                                                                     | cosmeticos |\n| 6 | MINOTAURE M75                                                                                  | cosmeticos |\n\n",
            "text/latex": "A data.frame: 6 × 2\n\\begin{tabular}{r|ll}\n  & Text & Category\\\\\n  & <chr> & <chr>\\\\\n\\hline\n\t1 & - REEF.: (140330) - SPRAY CAPILAR 270ML - TIGI CATWALK SESSION SERIES SALT SPRAY - PROT.DO.M.S & cosmeticos\\\\\n\t2 & BOZZANO ESPUMA BARBA CERRADA 6X190G                                                            & cosmeticos\\\\\n\t3 & NINA ELIXIR BC100 GENERIC GWP 2012                                                             & cosmeticos\\\\\n\t4 & CHA DE CAMOMILA 12X10X1,0 G                                                                    & cosmeticos\\\\\n\t5 & EDP SILVER RAIN VAPO 50 ML                                                                     & cosmeticos\\\\\n\t6 & MINOTAURE M75                                                                                  & cosmeticos\\\\\n\\end{tabular}\n",
            "text/plain": [
              "  Text                                                                                          \n",
              "1 - REEF.: (140330) - SPRAY CAPILAR 270ML - TIGI CATWALK SESSION SERIES SALT SPRAY - PROT.DO.M.S\n",
              "2 BOZZANO ESPUMA BARBA CERRADA 6X190G                                                           \n",
              "3 NINA ELIXIR BC100 GENERIC GWP 2012                                                            \n",
              "4 CHA DE CAMOMILA 12X10X1,0 G                                                                   \n",
              "5 EDP SILVER RAIN VAPO 50 ML                                                                    \n",
              "6 MINOTAURE M75                                                                                 \n",
              "  Category  \n",
              "1 cosmeticos\n",
              "2 cosmeticos\n",
              "3 cosmeticos\n",
              "4 cosmeticos\n",
              "5 cosmeticos\n",
              "6 cosmeticos"
            ]
          },
          "metadata": {}
        }
      ]
    },
    {
      "cell_type": "markdown",
      "source": [
        "5. Create corpus"
      ],
      "metadata": {
        "id": "U0hhk1KBHK0c"
      }
    },
    {
      "cell_type": "code",
      "source": [
        "docs <- Corpus(VectorSource(df$Text))"
      ],
      "metadata": {
        "id": "hxHgooOE3Sgd"
      },
      "execution_count": 5,
      "outputs": []
    },
    {
      "cell_type": "markdown",
      "source": [
        "6. Clean corpus"
      ],
      "metadata": {
        "id": "wvRPY7er4X6J"
      }
    },
    {
      "cell_type": "code",
      "source": [
        "docs <- tm_map(docs, content_transformer(tolower))\n",
        "docs <- tm_map(docs, removeNumbers)\n",
        "docs <- tm_map(docs, removeWords, stopwords(\"pt\"))\n",
        "docs <- tm_map(docs, removePunctuation)\n",
        "docs <- tm_map(docs, stripWhitespace)"
      ],
      "metadata": {
        "id": "nwWFGMni4QW8"
      },
      "execution_count": 21,
      "outputs": []
    },
    {
      "cell_type": "markdown",
      "source": [
        "7. Create dtm"
      ],
      "metadata": {
        "id": "TrR6rmTZm1UW"
      }
    },
    {
      "cell_type": "code",
      "source": [
        "dtm <- DocumentTermMatrix(docs)"
      ],
      "metadata": {
        "id": "U-ebwMQHmy7C"
      },
      "execution_count": 7,
      "outputs": []
    },
    {
      "cell_type": "markdown",
      "source": [
        "8. Transform dtm to matrix to data frame"
      ],
      "metadata": {
        "id": "Rq_CM-hcnJOK"
      }
    },
    {
      "cell_type": "code",
      "source": [
        "mat.df <- as.data.frame(data.matrix(dtm), \n",
        "#stringsAsfactors = FALSE\n",
        "stringsAsfactors = TRUE\n",
        ")"
      ],
      "metadata": {
        "id": "dhbJra09nGpo"
      },
      "execution_count": 8,
      "outputs": []
    },
    {
      "cell_type": "markdown",
      "source": [
        "9. Preparing labels"
      ],
      "metadata": {
        "id": "nDrHKd4NndEm"
      }
    },
    {
      "cell_type": "code",
      "source": [
        "# Column bind category (known classification)\n",
        "mat.df <- cbind(mat.df, df$Category)\n",
        "\n",
        "# Change name of new column to \"category\"\n",
        "colnames(mat.df)[ncol(mat.df)] <- \"category\""
      ],
      "metadata": {
        "id": "42bCfnmAncBT"
      },
      "execution_count": 9,
      "outputs": []
    },
    {
      "cell_type": "code",
      "source": [
        "mat.df$category<-as.factor(mat.df$category)\n",
        "str(mat.df$category)"
      ],
      "metadata": {
        "colab": {
          "base_uri": "https://localhost:8080/"
        },
        "id": "wbZr-Hi0Gxie",
        "outputId": "5d8e5782-9f0a-4206-cf47-de4e36edb171"
      },
      "execution_count": 10,
      "outputs": [
        {
          "output_type": "stream",
          "name": "stdout",
          "text": [
            " Factor w/ 3 levels \"alimentos\",\"cosmeticos\",..: 2 2 2 2 2 2 2 2 2 2 ...\n"
          ]
        }
      ]
    },
    {
      "cell_type": "markdown",
      "source": [
        "10. Preparing base and spliting sets"
      ],
      "metadata": {
        "id": "jo_0ut56ntBv"
      }
    },
    {
      "cell_type": "code",
      "source": [
        "mat.df.h <- as.h2o(mat.df)\n",
        "data.split <- h2o.splitFrame(data = mat.df.h, ratios = c(0.7, 0.2), seed = 1234)\n",
        "data.train <- data.split[[1]]\n",
        "data.valid <- data.split[[2]]\n",
        "data.test <- data.split[[3]]\n",
        "myY <- \"category\"\n",
        "myX <- setdiff(names(data.train), c(myY, \"ID\"))"
      ],
      "metadata": {
        "colab": {
          "base_uri": "https://localhost:8080/"
        },
        "id": "kTSIdiUCnrqr",
        "outputId": "1fb82e37-7ab8-4791-a02c-aefc76241f00"
      },
      "execution_count": 11,
      "outputs": [
        {
          "output_type": "stream",
          "name": "stdout",
          "text": [
            "  |======================================================================| 100%\n"
          ]
        }
      ]
    },
    {
      "cell_type": "markdown",
      "source": [
        "## Modeling"
      ],
      "metadata": {
        "id": "oYV4oOhpWJp4"
      }
    },
    {
      "cell_type": "markdown",
      "source": [
        "11. GBM Model - Gradient Boosting Machine (It can take a couple of hours to run)"
      ],
      "metadata": {
        "id": "AYt270Gbsq8u"
      }
    },
    {
      "cell_type": "code",
      "source": [
        "gbm.model <- h2o.gbm(x = myX, y = myY,\n",
        "                     training_frame = data.train,\n",
        "                     validation_frame = data.valid, ntrees = 1000, max_depth = 3,\n",
        "                     model_id = \"gbm_xprod_5mil\")\n",
        "h2o.confusionMatrix(gbm.model@model$validation_metrics)"
      ],
      "metadata": {
        "id": "mN4rhyMzsnsc",
        "colab": {
          "base_uri": "https://localhost:8080/",
          "height": 297
        },
        "outputId": "a13266e5-8f98-41fa-efb1-7a08058ea797"
      },
      "execution_count": 12,
      "outputs": [
        {
          "output_type": "stream",
          "name": "stderr",
          "text": [
            "Warning message in .h2o.processResponseWarnings(res):\n",
            "“Dropping bad and constant columns: [crpent, aventura, espelhada, potexgr, ccg, saquinho, somboc, saku, pratico, sotxg, ted, tec, tee, lactus, essentials, rfinas, conceal, venclote, ferrare, sulminas, serr, ultime, mochilete, gpomegranatelocao, pytaia, lint, size, amable, linx, cellular, solix, afthercoldesodorante, marroq, wine, furadinho, rechchocol, pauto, borrachinha, goma, luminosos, feiticeira, aprefpil, zoodrin, sals, ervadoceg, salt, jumbitos, itacolomy, mlnecessaire, daya, curaprox, danesa, lustralgodao, blua, charcoal, condiciona, tordelini, neutergen, terracota, leli, cibele, maybellinemlcandy, got, enxaguante, dijon, conchiglioni, lvml, pak, macgalo, moisture, cht, sand, zaza, cia, thym, santos, cxkg, powerdose, folia, licor, crmarina, mtodeschini, aquila, emagran, ansolar, sportml, remove, refillable, pvaso, semorin, treasure, almar, pearlfusion, pcr, sanafit, escargots, arga, victory, mlxxxwebxxx, modamlvinho, condicionad, china, fioruccimlvanila, medref, enfamil, sexo, lemb, lancome, festaml, joias, leopardo, anioxyspray, porcelain, invisible, pea, superpro, peg, gtb, chÃ¡, melagriao, crexlightm, chilli, caixinha, variada, inten, clq, felicity, infanti, givenchy, rops, crazy, joico, farmasi, pfs, bull, desodora, renovil, pint, calamo, peixes, mickey, cefaecbced, amdeterg, pgg, too, caseiranaturalg, neocid, rosl, spirit, laborene, chipsx, pacific, giulianna, xxl, demaquialante, criativa, dermosoft, extratomato, hydrass, arni, capital, macsemola, fuel, sprayvaporisateur, lets, consolida, desen, antstress, manpont, gleam, soyaml, pik, kelmat, pip, pir, vasculhar, cropped, mademoiselle, leitbom, deterpool, frenchsbg, rodobem, supriderme, slixoeconom, toletes, faccetta, clinical, agape, arnic, pega, sombrancelha, gsaco, entrar, lilic, brigadei, queij, roxa, lane, biscporto, arom, khons, cry, gxit, sourcils, kmach, cgotas, pizzas, burt, sketch, massaleve, rtcr, prev, silvestxlt, impressionant, vanguarda, proman, karit, peqcpim, freschissima, prep, let, smoothing, kerasttye, cremos, prevencao, liqmarron, tigi, terere, amadeirado, floralbouquet, xindaia, almond, revitalizing, pagliosa, lixas, bmflbagset, pisa, amanteigada, mlcravo, gcan, must, mmcr, anim, fondor, cauterizador, tractaclaro, desinfodores, seasoning, sunrise, espagxkg, two, grissines, umedecidas, refogado, barbear, sfrag, pistachio, lixito, uhde, cameixa, kingofpalms, bruxaxa, maravilhosa, dentinho, pretporter, ciabattine, kractatas, courinho, ofuro, hidrancjbronzdoura, acerolaml, burberry, mteal, melitina, skinun, reluz, banamaca, lig, sfio, piasralos, colorburst, cxl, sabjj, things, bian, cxp, csets, morlte, champ, pra, joelhos, tech, desengor, prf, cravos, azeitverdes, prt, fermbob, multitex, azapa, cremosolaura, sunfreshfpsml, incbombril, travas, interioes, stiprox, gpbr, casadinho, nitroformiga, esdodonto, mmarido, sustentembalixo, lave, emuls, limpprofml, blistex, blushrose, pere, elixr, mandolate, clarite, tnorax, grossamc, cocadinha, sculp, stylist, premiere, scult, duramax, modeladoracr, cuddly, veneziane, mclimplingua, barbatimao, vemat, issey, tampa, amarul, radiantes, pearlbeauty, bsthe, tram, naturavene, frescal, niveaml, stpalmolive, trak, dervish, antipulgas, biscrechcarrefour, tableteg, dandruff, desidratada, chuquinha, crempremdispxml, lombo, pesc, condimax, lavbenj, maybcoltattooed, quater, therask, mangaba, beblaccpfrutcoco, pwd, hipoalergenica, trancado, tabs, bifasic, panama, ultrafresh, rodinhas, trancada, formaerml, smash, vitalicia, trcp, cmenta, karui, licuri, bife, aquasafe, sabliqdove, clia, proformance, confeiteiro, obra, bigudinho, produto, cutic, grxgr, iognatural, chap, emolientecr, travel, suavize, impalamlmao, him, abddccbadcecceaafa, discoteen, dam, iogurfrutas, colcharmcarinho, citrantibactxml, tabulxm, jordao, hostess, centrifugador, orbaund, cgesmalte, tree, campi, water, taco, zuppx, lsa, conic, importx, calabrese, canadense, brule, pedica, fosforico, defrizzante, xgrxit, hortfl, part, dce, limppratice, taiff, lst, cherinho, gentlease, crfluida, mocframbo, kanechon, microfxcm, condimentos, babyc, sterol, quartzo, prsd, pielus, festiva, mlamen, prairie, bisco, diamond, ppisos, bsplash, pouche, extruz, extravolume, papelito, canelaxg, amarra, femfresh, dec, finaliz, smiles, garrafinha, cantinho, garota, den, parmariogaveta, trip, lva, perfsensualidad, unpreco, bees, higienizaÃ§Ã£o, teor, mila, prima, lvp, mlxxxf, novocx, instantxgr, cochilo, abac, esmal, replenishing, cogumelo, lacoflor, varredora, attitude, uhs, gardens, piacav, blacteazerolactxmlbr, hickmannmllirio, tomcepera, hiperroll, citrone, chamais, idade, capimcidreira, parÃ¡, airmat, term, eryfotona, desinfzupp, albumina, rosqueado, bebezinhozzz, dots, othrine, conjkeramax, veicfebrcarnovpeg, right, passione, alfaarbutim, pedfruta, nylook, everlast, paul, rdmbr, london, condic, skova, talq, aneis, dpecado, azulcr, semisintetico, dis, dentes, cerrado, bird, hrc, polibri, sprml, beira, suavesh, cartuchoxkg, concava, marsala, emoliente, clarissimo, antiaderente, ralos, sugared, paradise, petrou, taki, radiantxgr, divin, somb, session, patins, azulao, anisestrelado, bagagem, semillero, fermentbio, crescfortificado, maÃ§a, knockout, cdes, cbefbba, aknmsc, darling, margdelicia, fitoquantic, reflex, penaavestruz, avanzzo, diorskin, pouchnc, mimosa, duobrunette, grano, laminado, voile, pandoratw, davidoff, camisole, limpadorpporceepedrascxclt, baer, popanitta, cooperafloresta, csucrilhos, taupe, hidratouch, norwegian, vivere, relish, brinco, crech, dinamic, curte, moschiino, maddisma, tcuidado, tapa, bell, errerva, juliet, inspiracao, latrsmaria, yenzahmlold, danificados, natcurauape, lcinz, bacteri, shield, touche, dom, tostada, almoalmondega, aromatizad, magn, dov, tempknorr, trincha, pmolh, veneza, brit, emoly, cjanozdce, dupont, maquian, crdcloseup, suprem, chlor, ccaroco, phclinprotenx, triangulo, aerminerdry, banchocbranco, tilia, tqamxkg, crede, menina, thrill, rfjohns, fettucine, ukcor, hosp, fine, rubio, campml, dri, bromo, drm, minibolo, nutraplus, gelfree, steps, astro, merba, queralislevsedml, filcabo, oralbkid, rollblack, dso, docura, phytomineral, maraschino, diluicao, refilapar, stain, sensglass, balc, pmetal, microfcouplplatdol, dmorango, intensite, fotoprotecao, maravilha, frac, mania, esfumador, unscented, phyto, ortho, salgamendupabacon, amban, beblacpolpa, camomilaxcm, masculina, due, blancy, cglicverde, uhtchoc, forinset, amoniacaldiluidor, telescÃ³pio, sapore, lola, utilo, spartex, fritito, dvb, colorbbalmadore, ptobl, prush, bioinove, moscada, unitaria, biolisage, pmetais, citri, poscoloracao, zap, vermeil, whitestrips, idnot, pointed, bodycare, perfumania, illicit, escolha, unique, revelador, escuras, abre, bamb, mala, lancbio, male, protsolar, macerav, jumbo, carref, cdescrel, maybellinemlbubbliciou, tfrescreflavml, bsecamora, indeba, amaciador, thyme, lucretin, orquideas, ruppes, fita, biomas, desengpratice, dermato, manj, star, leitxlt, wolf, autanoff, desbi, starvie, frcx, supra, dourad, naturalcr, repack, drencell, kvani, cahos, sonya, puris, lstar, vanille, mlmlg, diana, barc, nitrosin, shjej, londonlondon, lupidus, finoou, vitay, deosol, keragen, femi, concentr, henafix, perfpassione, vitao, carbonell, algodaomoprae, bata, amaranthus, nuxe, semaninha, eaeecddbafafdefa, uvamaca, mml, bast, causar, flowernigra, hidintensa, grando, duocake, sicilian, amolec, absslfit, mary, indiano, fumaca, pode, aprefil, mari, purezal, pulver, seios, gfxml, incnugget, monin, sistema, moi, sachets, lchidratante, antiqued, antistress, acessorios, fpsag, colheres, aguacolonia, automatico, baud, seringa, van, var, colorboost, capeleti, cprebio, branche, reconstcompleta, cosmetica, adzuki, cotovelos, vanill, rapadurac, alfredo, signature, iii, risoni, exter, cefeito, punch, mlsmart, avarias, endurecedora, myhair, churr, pedramax, pois, selante, restauradora, mrd, mre, mrg, nvisual, siege, mlflor, tsec, haste, telef, pastas, caldas, quasar, perfumadocapim, sensacoes, guru, estr, recestrutural, polimento, vicio, silcado, enfer, eliane, ech, tintai, rodos, amacmax, adiÃ§Ã£o, naturais, sabjohnson, saboneteantipulgas, portugues, procao, fritos, deocolpolo, for”\n"
          ]
        },
        {
          "output_type": "stream",
          "name": "stdout",
          "text": [
            "  |======================================================================| 100%\n"
          ]
        },
        {
          "output_type": "display_data",
          "data": {
            "text/html": [
              "<table class=\"dataframe\">\n",
              "<caption>A H2OTable: 4 × 5</caption>\n",
              "<thead>\n",
              "\t<tr><th></th><th scope=col>alimentos</th><th scope=col>cosmeticos</th><th scope=col>matlimpeza</th><th scope=col>Error</th><th scope=col>Rate</th></tr>\n",
              "\t<tr><th></th><th scope=col>&lt;dbl&gt;</th><th scope=col>&lt;dbl&gt;</th><th scope=col>&lt;dbl&gt;</th><th scope=col>&lt;dbl&gt;</th><th scope=col>&lt;chr&gt;</th></tr>\n",
              "</thead>\n",
              "<tbody>\n",
              "\t<tr><th scope=row>alimentos</th><td>895</td><td>  92</td><td>  7</td><td>0.09959759</td><td>99 / 994   </td></tr>\n",
              "\t<tr><th scope=row>cosmeticos</th><td> 17</td><td> 934</td><td> 24</td><td>0.04205128</td><td>41 / 975   </td></tr>\n",
              "\t<tr><th scope=row>matlimpeza</th><td> 14</td><td> 124</td><td>859</td><td>0.13841525</td><td>138 / 997  </td></tr>\n",
              "\t<tr><th scope=row>Totals</th><td>926</td><td>1150</td><td>890</td><td>0.09372893</td><td>278 / 2,966</td></tr>\n",
              "</tbody>\n",
              "</table>\n"
            ],
            "text/markdown": "\nA H2OTable: 4 × 5\n\n| <!--/--> | alimentos &lt;dbl&gt; | cosmeticos &lt;dbl&gt; | matlimpeza &lt;dbl&gt; | Error &lt;dbl&gt; | Rate &lt;chr&gt; |\n|---|---|---|---|---|---|\n| alimentos | 895 |   92 |   7 | 0.09959759 | 99 / 994    |\n| cosmeticos |  17 |  934 |  24 | 0.04205128 | 41 / 975    |\n| matlimpeza |  14 |  124 | 859 | 0.13841525 | 138 / 997   |\n| Totals | 926 | 1150 | 890 | 0.09372893 | 278 / 2,966 |\n\n",
            "text/latex": "A H2OTable: 4 × 5\n\\begin{tabular}{r|lllll}\n  & alimentos & cosmeticos & matlimpeza & Error & Rate\\\\\n  & <dbl> & <dbl> & <dbl> & <dbl> & <chr>\\\\\n\\hline\n\talimentos & 895 &   92 &   7 & 0.09959759 & 99 / 994   \\\\\n\tcosmeticos &  17 &  934 &  24 & 0.04205128 & 41 / 975   \\\\\n\tmatlimpeza &  14 &  124 & 859 & 0.13841525 & 138 / 997  \\\\\n\tTotals & 926 & 1150 & 890 & 0.09372893 & 278 / 2,966\\\\\n\\end{tabular}\n",
            "text/plain": [
              "           alimentos cosmeticos matlimpeza Error      Rate       \n",
              "alimentos  895         92         7        0.09959759 99 / 994   \n",
              "cosmeticos  17        934        24        0.04205128 41 / 975   \n",
              "matlimpeza  14        124       859        0.13841525 138 / 997  \n",
              "Totals     926       1150       890        0.09372893 278 / 2,966"
            ]
          },
          "metadata": {}
        }
      ]
    },
    {
      "cell_type": "code",
      "source": [
        "conf.mat <- h2o.confusionMatrix(gbm.model@model$validation_metrics)\n",
        "conf.mat"
      ],
      "metadata": {
        "id": "O75yM7t5svkM",
        "colab": {
          "base_uri": "https://localhost:8080/",
          "height": 224
        },
        "outputId": "3b1e09bf-9965-4984-a114-0df4cef4da48"
      },
      "execution_count": 13,
      "outputs": [
        {
          "output_type": "display_data",
          "data": {
            "text/html": [
              "<table class=\"dataframe\">\n",
              "<caption>A H2OTable: 4 × 5</caption>\n",
              "<thead>\n",
              "\t<tr><th></th><th scope=col>alimentos</th><th scope=col>cosmeticos</th><th scope=col>matlimpeza</th><th scope=col>Error</th><th scope=col>Rate</th></tr>\n",
              "\t<tr><th></th><th scope=col>&lt;dbl&gt;</th><th scope=col>&lt;dbl&gt;</th><th scope=col>&lt;dbl&gt;</th><th scope=col>&lt;dbl&gt;</th><th scope=col>&lt;chr&gt;</th></tr>\n",
              "</thead>\n",
              "<tbody>\n",
              "\t<tr><th scope=row>alimentos</th><td>895</td><td>  92</td><td>  7</td><td>0.09959759</td><td>99 / 994   </td></tr>\n",
              "\t<tr><th scope=row>cosmeticos</th><td> 17</td><td> 934</td><td> 24</td><td>0.04205128</td><td>41 / 975   </td></tr>\n",
              "\t<tr><th scope=row>matlimpeza</th><td> 14</td><td> 124</td><td>859</td><td>0.13841525</td><td>138 / 997  </td></tr>\n",
              "\t<tr><th scope=row>Totals</th><td>926</td><td>1150</td><td>890</td><td>0.09372893</td><td>278 / 2,966</td></tr>\n",
              "</tbody>\n",
              "</table>\n"
            ],
            "text/markdown": "\nA H2OTable: 4 × 5\n\n| <!--/--> | alimentos &lt;dbl&gt; | cosmeticos &lt;dbl&gt; | matlimpeza &lt;dbl&gt; | Error &lt;dbl&gt; | Rate &lt;chr&gt; |\n|---|---|---|---|---|---|\n| alimentos | 895 |   92 |   7 | 0.09959759 | 99 / 994    |\n| cosmeticos |  17 |  934 |  24 | 0.04205128 | 41 / 975    |\n| matlimpeza |  14 |  124 | 859 | 0.13841525 | 138 / 997   |\n| Totals | 926 | 1150 | 890 | 0.09372893 | 278 / 2,966 |\n\n",
            "text/latex": "A H2OTable: 4 × 5\n\\begin{tabular}{r|lllll}\n  & alimentos & cosmeticos & matlimpeza & Error & Rate\\\\\n  & <dbl> & <dbl> & <dbl> & <dbl> & <chr>\\\\\n\\hline\n\talimentos & 895 &   92 &   7 & 0.09959759 & 99 / 994   \\\\\n\tcosmeticos &  17 &  934 &  24 & 0.04205128 & 41 / 975   \\\\\n\tmatlimpeza &  14 &  124 & 859 & 0.13841525 & 138 / 997  \\\\\n\tTotals & 926 & 1150 & 890 & 0.09372893 & 278 / 2,966\\\\\n\\end{tabular}\n",
            "text/plain": [
              "           alimentos cosmeticos matlimpeza Error      Rate       \n",
              "alimentos  895         92         7        0.09959759 99 / 994   \n",
              "cosmeticos  17        934        24        0.04205128 41 / 975   \n",
              "matlimpeza  14        124       859        0.13841525 138 / 997  \n",
              "Totals     926       1150       890        0.09372893 278 / 2,966"
            ]
          },
          "metadata": {}
        }
      ]
    },
    {
      "cell_type": "code",
      "source": [
        "r2.gbm.model.5mil <- gbm.model@model$validation_metrics@metrics$r2\n",
        "r2.gbm.model.5mil"
      ],
      "metadata": {
        "id": "2pbEdKnts2fo",
        "colab": {
          "base_uri": "https://localhost:8080/",
          "height": 34
        },
        "outputId": "69b403c4-19c4-4a52-de50-ab7957961f59"
      },
      "execution_count": 15,
      "outputs": [
        {
          "output_type": "display_data",
          "data": {
            "text/html": [
              "0.863942051041542"
            ],
            "text/markdown": "0.863942051041542",
            "text/latex": "0.863942051041542",
            "text/plain": [
              "[1] 0.8639421"
            ]
          },
          "metadata": {}
        }
      ]
    },
    {
      "cell_type": "markdown",
      "source": [
        "12. DeepLearning (MLP - Multi Layer Perceptron)"
      ],
      "metadata": {
        "id": "Wc8UTqYJomig"
      }
    },
    {
      "cell_type": "code",
      "source": [
        "#encoding = \"LabelEncoder\"\n",
        "\n",
        "dl.model <- h2o.deeplearning(x = myX, y = myY, \n",
        "                             training_frame = data.train ,\n",
        "                             #categorical_encoding = encoding,\n",
        "                             hidden = c(100,200,100), \n",
        "                             epochs = 20,\n",
        "                             validation_frame = data.valid,\n",
        "                             model_id = \"dl_xprod_5mil\")\n",
        "h2o.confusionMatrix(dl.model@model$validation_metrics)"
      ],
      "metadata": {
        "colab": {
          "base_uri": "https://localhost:8080/",
          "height": 297
        },
        "id": "ZmQPVWhhoMzz",
        "outputId": "76e41f2f-4c58-4dcb-8ad9-69cbef6fae1a"
      },
      "execution_count": 17,
      "outputs": [
        {
          "output_type": "stream",
          "name": "stderr",
          "text": [
            "Warning message in .h2o.processResponseWarnings(res):\n",
            "“Dropping bad and constant columns: [crpent, aventura, espelhada, potexgr, ccg, saquinho, somboc, saku, pratico, sotxg, ted, tec, tee, lactus, essentials, rfinas, conceal, venclote, ferrare, sulminas, serr, ultime, mochilete, gpomegranatelocao, pytaia, lint, size, amable, linx, cellular, solix, afthercoldesodorante, marroq, wine, furadinho, rechchocol, pauto, borrachinha, goma, luminosos, feiticeira, aprefpil, zoodrin, sals, ervadoceg, salt, jumbitos, itacolomy, mlnecessaire, daya, curaprox, danesa, lustralgodao, blua, charcoal, condiciona, tordelini, neutergen, terracota, leli, cibele, maybellinemlcandy, got, enxaguante, dijon, conchiglioni, lvml, pak, macgalo, moisture, cht, sand, zaza, cia, thym, santos, cxkg, powerdose, folia, licor, crmarina, mtodeschini, aquila, emagran, ansolar, sportml, remove, refillable, pvaso, semorin, treasure, almar, pearlfusion, pcr, sanafit, escargots, arga, victory, mlxxxwebxxx, modamlvinho, condicionad, china, fioruccimlvanila, medref, enfamil, sexo, lemb, lancome, festaml, joias, leopardo, anioxyspray, porcelain, invisible, pea, superpro, peg, gtb, chÃ¡, melagriao, crexlightm, chilli, caixinha, variada, inten, clq, felicity, infanti, givenchy, rops, crazy, joico, farmasi, pfs, bull, desodora, renovil, pint, calamo, peixes, mickey, cefaecbced, amdeterg, pgg, too, caseiranaturalg, neocid, rosl, spirit, laborene, chipsx, pacific, giulianna, xxl, demaquialante, criativa, dermosoft, extratomato, hydrass, arni, capital, macsemola, fuel, sprayvaporisateur, lets, consolida, desen, antstress, manpont, gleam, soyaml, pik, kelmat, pip, pir, vasculhar, cropped, mademoiselle, leitbom, deterpool, frenchsbg, rodobem, supriderme, slixoeconom, toletes, faccetta, clinical, agape, arnic, pega, sombrancelha, gsaco, entrar, lilic, brigadei, queij, roxa, lane, biscporto, arom, khons, cry, gxit, sourcils, kmach, cgotas, pizzas, burt, sketch, massaleve, rtcr, prev, silvestxlt, impressionant, vanguarda, proman, karit, peqcpim, freschissima, prep, let, smoothing, kerasttye, cremos, prevencao, liqmarron, tigi, terere, amadeirado, floralbouquet, xindaia, almond, revitalizing, pagliosa, lixas, bmflbagset, pisa, amanteigada, mlcravo, gcan, must, mmcr, anim, fondor, cauterizador, tractaclaro, desinfodores, seasoning, sunrise, espagxkg, two, grissines, umedecidas, refogado, barbear, sfrag, pistachio, lixito, uhde, cameixa, kingofpalms, bruxaxa, maravilhosa, dentinho, pretporter, ciabattine, kractatas, courinho, ofuro, hidrancjbronzdoura, acerolaml, burberry, mteal, melitina, skinun, reluz, banamaca, lig, sfio, piasralos, colorburst, cxl, sabjj, things, bian, cxp, csets, morlte, champ, pra, joelhos, tech, desengor, prf, cravos, azeitverdes, prt, fermbob, multitex, azapa, cremosolaura, sunfreshfpsml, incbombril, travas, interioes, stiprox, gpbr, casadinho, nitroformiga, esdodonto, mmarido, sustentembalixo, lave, emuls, limpprofml, blistex, blushrose, pere, elixr, mandolate, clarite, tnorax, grossamc, cocadinha, sculp, stylist, premiere, scult, duramax, modeladoracr, cuddly, veneziane, mclimplingua, barbatimao, vemat, issey, tampa, amarul, radiantes, pearlbeauty, bsthe, tram, naturavene, frescal, niveaml, stpalmolive, trak, dervish, antipulgas, biscrechcarrefour, tableteg, dandruff, desidratada, chuquinha, crempremdispxml, lombo, pesc, condimax, lavbenj, maybcoltattooed, quater, therask, mangaba, beblaccpfrutcoco, pwd, hipoalergenica, trancado, tabs, bifasic, panama, ultrafresh, rodinhas, trancada, formaerml, smash, vitalicia, trcp, cmenta, karui, licuri, bife, aquasafe, sabliqdove, clia, proformance, confeiteiro, obra, bigudinho, produto, cutic, grxgr, iognatural, chap, emolientecr, travel, suavize, impalamlmao, him, abddccbadcecceaafa, discoteen, dam, iogurfrutas, colcharmcarinho, citrantibactxml, tabulxm, jordao, hostess, centrifugador, orbaund, cgesmalte, tree, campi, water, taco, zuppx, lsa, conic, importx, calabrese, canadense, brule, pedica, fosforico, defrizzante, xgrxit, hortfl, part, dce, limppratice, taiff, lst, cherinho, gentlease, crfluida, mocframbo, kanechon, microfxcm, condimentos, babyc, sterol, quartzo, prsd, pielus, festiva, mlamen, prairie, bisco, diamond, ppisos, bsplash, pouche, extruz, extravolume, papelito, canelaxg, amarra, femfresh, dec, finaliz, smiles, garrafinha, cantinho, garota, den, parmariogaveta, trip, lva, perfsensualidad, unpreco, bees, higienizaÃ§Ã£o, teor, mila, prima, lvp, mlxxxf, novocx, instantxgr, cochilo, abac, esmal, replenishing, cogumelo, lacoflor, varredora, attitude, uhs, gardens, piacav, blacteazerolactxmlbr, hickmannmllirio, tomcepera, hiperroll, citrone, chamais, idade, capimcidreira, parÃ¡, airmat, term, eryfotona, desinfzupp, albumina, rosqueado, bebezinhozzz, dots, othrine, conjkeramax, veicfebrcarnovpeg, right, passione, alfaarbutim, pedfruta, nylook, everlast, paul, rdmbr, london, condic, skova, talq, aneis, dpecado, azulcr, semisintetico, dis, dentes, cerrado, bird, hrc, polibri, sprml, beira, suavesh, cartuchoxkg, concava, marsala, emoliente, clarissimo, antiaderente, ralos, sugared, paradise, petrou, taki, radiantxgr, divin, somb, session, patins, azulao, anisestrelado, bagagem, semillero, fermentbio, crescfortificado, maÃ§a, knockout, cdes, cbefbba, aknmsc, darling, margdelicia, fitoquantic, reflex, penaavestruz, avanzzo, diorskin, pouchnc, mimosa, duobrunette, grano, laminado, voile, pandoratw, davidoff, camisole, limpadorpporceepedrascxclt, baer, popanitta, cooperafloresta, csucrilhos, taupe, hidratouch, norwegian, vivere, relish, brinco, crech, dinamic, curte, moschiino, maddisma, tcuidado, tapa, bell, errerva, juliet, inspiracao, latrsmaria, yenzahmlold, danificados, natcurauape, lcinz, bacteri, shield, touche, dom, tostada, almoalmondega, aromatizad, magn, dov, tempknorr, trincha, pmolh, veneza, brit, emoly, cjanozdce, dupont, maquian, crdcloseup, suprem, chlor, ccaroco, phclinprotenx, triangulo, aerminerdry, banchocbranco, tilia, tqamxkg, crede, menina, thrill, rfjohns, fettucine, ukcor, hosp, fine, rubio, campml, dri, bromo, drm, minibolo, nutraplus, gelfree, steps, astro, merba, queralislevsedml, filcabo, oralbkid, rollblack, dso, docura, phytomineral, maraschino, diluicao, refilapar, stain, sensglass, balc, pmetal, microfcouplplatdol, dmorango, intensite, fotoprotecao, maravilha, frac, mania, esfumador, unscented, phyto, ortho, salgamendupabacon, amban, beblacpolpa, camomilaxcm, masculina, due, blancy, cglicverde, uhtchoc, forinset, amoniacaldiluidor, telescÃ³pio, sapore, lola, utilo, spartex, fritito, dvb, colorbbalmadore, ptobl, prush, bioinove, moscada, unitaria, biolisage, pmetais, citri, poscoloracao, zap, vermeil, whitestrips, idnot, pointed, bodycare, perfumania, illicit, escolha, unique, revelador, escuras, abre, bamb, mala, lancbio, male, protsolar, macerav, jumbo, carref, cdescrel, maybellinemlbubbliciou, tfrescreflavml, bsecamora, indeba, amaciador, thyme, lucretin, orquideas, ruppes, fita, biomas, desengpratice, dermato, manj, star, leitxlt, wolf, autanoff, desbi, starvie, frcx, supra, dourad, naturalcr, repack, drencell, kvani, cahos, sonya, puris, lstar, vanille, mlmlg, diana, barc, nitrosin, shjej, londonlondon, lupidus, finoou, vitay, deosol, keragen, femi, concentr, henafix, perfpassione, vitao, carbonell, algodaomoprae, bata, amaranthus, nuxe, semaninha, eaeecddbafafdefa, uvamaca, mml, bast, causar, flowernigra, hidintensa, grando, duocake, sicilian, amolec, absslfit, mary, indiano, fumaca, pode, aprefil, mari, purezal, pulver, seios, gfxml, incnugget, monin, sistema, moi, sachets, lchidratante, antiqued, antistress, acessorios, fpsag, colheres, aguacolonia, automatico, baud, seringa, van, var, colorboost, capeleti, cprebio, branche, reconstcompleta, cosmetica, adzuki, cotovelos, vanill, rapadurac, alfredo, signature, iii, risoni, exter, cefeito, punch, mlsmart, avarias, endurecedora, myhair, churr, pedramax, pois, selante, restauradora, mrd, mre, mrg, nvisual, siege, mlflor, tsec, haste, telef, pastas, caldas, quasar, perfumadocapim, sensacoes, guru, estr, recestrutural, polimento, vicio, silcado, enfer, eliane, ech, tintai, rodos, amacmax, adiÃ§Ã£o, naturais, sabjohnson, saboneteantipulgas, portugues, procao, fritos, deocolpolo, for”\n"
          ]
        },
        {
          "output_type": "stream",
          "name": "stdout",
          "text": [
            "  |======================================================================| 100%\n"
          ]
        },
        {
          "output_type": "display_data",
          "data": {
            "text/html": [
              "<table class=\"dataframe\">\n",
              "<caption>A H2OTable: 4 × 5</caption>\n",
              "<thead>\n",
              "\t<tr><th></th><th scope=col>alimentos</th><th scope=col>cosmeticos</th><th scope=col>matlimpeza</th><th scope=col>Error</th><th scope=col>Rate</th></tr>\n",
              "\t<tr><th></th><th scope=col>&lt;dbl&gt;</th><th scope=col>&lt;dbl&gt;</th><th scope=col>&lt;dbl&gt;</th><th scope=col>&lt;dbl&gt;</th><th scope=col>&lt;chr&gt;</th></tr>\n",
              "</thead>\n",
              "<tbody>\n",
              "\t<tr><th scope=row>alimentos</th><td>967</td><td>  17</td><td> 10</td><td>0.02716298</td><td>27 / 994   </td></tr>\n",
              "\t<tr><th scope=row>cosmeticos</th><td> 13</td><td> 934</td><td> 28</td><td>0.04205128</td><td>41 / 975   </td></tr>\n",
              "\t<tr><th scope=row>matlimpeza</th><td>  5</td><td>  64</td><td>928</td><td>0.06920762</td><td>69 / 997   </td></tr>\n",
              "\t<tr><th scope=row>Totals</th><td>985</td><td>1015</td><td>966</td><td>0.04619016</td><td>137 / 2,966</td></tr>\n",
              "</tbody>\n",
              "</table>\n"
            ],
            "text/markdown": "\nA H2OTable: 4 × 5\n\n| <!--/--> | alimentos &lt;dbl&gt; | cosmeticos &lt;dbl&gt; | matlimpeza &lt;dbl&gt; | Error &lt;dbl&gt; | Rate &lt;chr&gt; |\n|---|---|---|---|---|---|\n| alimentos | 967 |   17 |  10 | 0.02716298 | 27 / 994    |\n| cosmeticos |  13 |  934 |  28 | 0.04205128 | 41 / 975    |\n| matlimpeza |   5 |   64 | 928 | 0.06920762 | 69 / 997    |\n| Totals | 985 | 1015 | 966 | 0.04619016 | 137 / 2,966 |\n\n",
            "text/latex": "A H2OTable: 4 × 5\n\\begin{tabular}{r|lllll}\n  & alimentos & cosmeticos & matlimpeza & Error & Rate\\\\\n  & <dbl> & <dbl> & <dbl> & <dbl> & <chr>\\\\\n\\hline\n\talimentos & 967 &   17 &  10 & 0.02716298 & 27 / 994   \\\\\n\tcosmeticos &  13 &  934 &  28 & 0.04205128 & 41 / 975   \\\\\n\tmatlimpeza &   5 &   64 & 928 & 0.06920762 & 69 / 997   \\\\\n\tTotals & 985 & 1015 & 966 & 0.04619016 & 137 / 2,966\\\\\n\\end{tabular}\n",
            "text/plain": [
              "           alimentos cosmeticos matlimpeza Error      Rate       \n",
              "alimentos  967         17        10        0.02716298 27 / 994   \n",
              "cosmeticos  13        934        28        0.04205128 41 / 975   \n",
              "matlimpeza   5         64       928        0.06920762 69 / 997   \n",
              "Totals     985       1015       966        0.04619016 137 / 2,966"
            ]
          },
          "metadata": {}
        }
      ]
    },
    {
      "cell_type": "code",
      "source": [
        "conf.mat.dl5mil <- h2o.confusionMatrix(dl.model@model$validation_metrics)\n",
        "conf.mat.dl5mil"
      ],
      "metadata": {
        "id": "8yaVbaj7oVMs",
        "colab": {
          "base_uri": "https://localhost:8080/",
          "height": 224
        },
        "outputId": "75d03af3-76a6-4a10-dc84-31a5aa8b2b33"
      },
      "execution_count": 18,
      "outputs": [
        {
          "output_type": "display_data",
          "data": {
            "text/html": [
              "<table class=\"dataframe\">\n",
              "<caption>A H2OTable: 4 × 5</caption>\n",
              "<thead>\n",
              "\t<tr><th></th><th scope=col>alimentos</th><th scope=col>cosmeticos</th><th scope=col>matlimpeza</th><th scope=col>Error</th><th scope=col>Rate</th></tr>\n",
              "\t<tr><th></th><th scope=col>&lt;dbl&gt;</th><th scope=col>&lt;dbl&gt;</th><th scope=col>&lt;dbl&gt;</th><th scope=col>&lt;dbl&gt;</th><th scope=col>&lt;chr&gt;</th></tr>\n",
              "</thead>\n",
              "<tbody>\n",
              "\t<tr><th scope=row>alimentos</th><td>967</td><td>  17</td><td> 10</td><td>0.02716298</td><td>27 / 994   </td></tr>\n",
              "\t<tr><th scope=row>cosmeticos</th><td> 13</td><td> 934</td><td> 28</td><td>0.04205128</td><td>41 / 975   </td></tr>\n",
              "\t<tr><th scope=row>matlimpeza</th><td>  5</td><td>  64</td><td>928</td><td>0.06920762</td><td>69 / 997   </td></tr>\n",
              "\t<tr><th scope=row>Totals</th><td>985</td><td>1015</td><td>966</td><td>0.04619016</td><td>137 / 2,966</td></tr>\n",
              "</tbody>\n",
              "</table>\n"
            ],
            "text/markdown": "\nA H2OTable: 4 × 5\n\n| <!--/--> | alimentos &lt;dbl&gt; | cosmeticos &lt;dbl&gt; | matlimpeza &lt;dbl&gt; | Error &lt;dbl&gt; | Rate &lt;chr&gt; |\n|---|---|---|---|---|---|\n| alimentos | 967 |   17 |  10 | 0.02716298 | 27 / 994    |\n| cosmeticos |  13 |  934 |  28 | 0.04205128 | 41 / 975    |\n| matlimpeza |   5 |   64 | 928 | 0.06920762 | 69 / 997    |\n| Totals | 985 | 1015 | 966 | 0.04619016 | 137 / 2,966 |\n\n",
            "text/latex": "A H2OTable: 4 × 5\n\\begin{tabular}{r|lllll}\n  & alimentos & cosmeticos & matlimpeza & Error & Rate\\\\\n  & <dbl> & <dbl> & <dbl> & <dbl> & <chr>\\\\\n\\hline\n\talimentos & 967 &   17 &  10 & 0.02716298 & 27 / 994   \\\\\n\tcosmeticos &  13 &  934 &  28 & 0.04205128 & 41 / 975   \\\\\n\tmatlimpeza &   5 &   64 & 928 & 0.06920762 & 69 / 997   \\\\\n\tTotals & 985 & 1015 & 966 & 0.04619016 & 137 / 2,966\\\\\n\\end{tabular}\n",
            "text/plain": [
              "           alimentos cosmeticos matlimpeza Error      Rate       \n",
              "alimentos  967         17        10        0.02716298 27 / 994   \n",
              "cosmeticos  13        934        28        0.04205128 41 / 975   \n",
              "matlimpeza   5         64       928        0.06920762 69 / 997   \n",
              "Totals     985       1015       966        0.04619016 137 / 2,966"
            ]
          },
          "metadata": {}
        }
      ]
    },
    {
      "cell_type": "code",
      "source": [
        "r2.dl.model.5mil <- dl.model@model$validation_metrics@metrics$r2\n",
        "r2.dl.model.5mil"
      ],
      "metadata": {
        "id": "6CXvl6lVof_Q",
        "colab": {
          "base_uri": "https://localhost:8080/",
          "height": 34
        },
        "outputId": "f4bbdb71-e171-4472-b797-52f7e5428c21"
      },
      "execution_count": 19,
      "outputs": [
        {
          "output_type": "display_data",
          "data": {
            "text/html": [
              "0.941827940331556"
            ],
            "text/markdown": "0.941827940331556",
            "text/latex": "0.941827940331556",
            "text/plain": [
              "[1] 0.9418279"
            ]
          },
          "metadata": {}
        }
      ]
    }
  ]
}